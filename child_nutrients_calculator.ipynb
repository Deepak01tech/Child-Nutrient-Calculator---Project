{
 "cells": [
  {
   "cell_type": "code",
   "execution_count": null,
   "id": "8b6894c9",
   "metadata": {},
   "outputs": [],
   "source": []
  },
  {
   "cell_type": "code",
   "execution_count": 1,
   "id": "d4aab13e",
   "metadata": {},
   "outputs": [
    {
     "name": "stdout",
     "output_type": "stream",
     "text": [
      "Name :ram\n",
      "Age :14\n",
      "Height :150\n",
      "Weight :56\n",
      "Milk : 250\n",
      "Vegetables : 200\n",
      "Meat : 300\n",
      "Lentils : 200\n",
      "Egg : 300\n",
      "Rice : 200\n",
      "BMI of ram is 1.74 and he(she) is Severely Underweight\n",
      "The daily calorie consumptionram is 1800and he(she) is not undernourished\n"
     ]
    }
   ],
   "source": [
    "import math\n",
    "Name = str(input(\"Name :\"))\n",
    "Age  = int(input(\"Age :\"))\n",
    "Height = int(input(\"Height :\"))\n",
    "Weight = int(input(\"Weight :\"))\n",
    "BMIvalue = float(Weight/(Height**2)*703)\n",
    "BMIvalue = float(math.floor(BMIvalue*100)/100)\n",
    "Milk = int(input(\"Milk : \"))\n",
    "Vegetables = int(input(\"Vegetables : \"))\n",
    "Vegetables = 0.85*Vegetables\n",
    "Meat = int(input(\"Meat : \"))\n",
    "Meat = 1.43*Meat\n",
    "Lentils = int(input(\"Lentils : \"))\n",
    "Lentils = 1.13*Lentils\n",
    "Egg = int(input(\"Egg : \"))\n",
    "Egg = 1.55*Egg\n",
    "Rice = int(input(\"Rice : \"))\n",
    "Rice =  1.3*Rice\n",
    "together = int(Milk + Vegetables + Meat + Lentils + Egg + Rice)\n",
    "if BMIvalue < 16:\n",
    "    print('BMI of '+Name+' is '+str(BMIvalue)+' and he(she) is Severely Underweight')\n",
    "elif BMIvalue >= 16 and BMIvalue < 18.5 :\n",
    "    print('BMI of '+Name+' is '+str(BMIvalue)+' and he(she) is Underweight')\n",
    "elif BMIvalue >= 18.5 and BMIvalue < 25 :\n",
    "    print('BMI of '+Name+' is '+str(BMIvalue)+' and he(she) is Healthy')\n",
    "elif BMIvalue >= 25 and BMIvalue < 30 :\n",
    "    print('BMI of '+Name+' is '+str(BMIvalue)+' and he(she) is Overweight')\n",
    "elif BMIvalue >= 30 :\n",
    "    print('BMI of '+Name+' is '+str(BMIvalue)+' and he(she) is Obese')\n",
    "if Age< 2 :\n",
    "    if together>=800:\n",
    "        print('The daily calorie consumption'+Name+\" is \"+str(together)+' and he(she) is not undernourished')\n",
    "    else :\n",
    "     print('The daily calorie consumption'+Name+\" is \"+str(together)+' and he(she) is undernourished')\n",
    "elif 2<=Age<4:\n",
    "     if together>=1400:\n",
    "        print('The daily calorie consumption '+Name+\" is \"+str(together)+' and he(she) is not undernourished')\n",
    "     else :\n",
    "        print('The daily calorie consumption '+Name+\" is \"+str(together)+'  and he(she) is  undernourished')\n",
    "elif 4<=Age<8:\n",
    "     if together>=1800 :\n",
    "        print('The daily calorie consumption '+Name+\" is \"+str(together)+' and he(she) is not undernourished')\n",
    "     else :\n",
    "         print('The daily calorie consumption'+Name+\" is \"+str(together)+'and he(she) is  undernourished')\n",
    "else:\n",
    "     print('The daily calorie consumption'+Name+\" is \"+str(together)+'and he(she) is not undernourished')"
   ]
  },
  {
   "cell_type": "code",
   "execution_count": null,
   "id": "9eeff060",
   "metadata": {},
   "outputs": [],
   "source": []
  },
  {
   "cell_type": "code",
   "execution_count": null,
   "id": "ea836856",
   "metadata": {},
   "outputs": [],
   "source": []
  }
 ],
 "metadata": {
  "kernelspec": {
   "display_name": "Python 3 (ipykernel)",
   "language": "python",
   "name": "python3"
  },
  "language_info": {
   "codemirror_mode": {
    "name": "ipython",
    "version": 3
   },
   "file_extension": ".py",
   "mimetype": "text/x-python",
   "name": "python",
   "nbconvert_exporter": "python",
   "pygments_lexer": "ipython3",
   "version": "3.9.7"
  }
 },
 "nbformat": 4,
 "nbformat_minor": 5
}
